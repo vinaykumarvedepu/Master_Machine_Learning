{
 "cells": [
  {
   "cell_type": "markdown",
   "metadata": {},
   "source": [
    "# Task 2\n",
    "### Q1) 1.1)\n",
    "### Write a Python Program(with class concepts) to find the area of the triangle using the below formula. area = (s*(s-a)*(s-b)*(s-c)) ** 0.5\n",
    "### Function to take the length of the sides of triangle from user should be defined in the parent class and function to calculate the area should be defined in subclass."
   ]
  },
  {
   "cell_type": "code",
   "execution_count": 1,
   "metadata": {},
   "outputs": [
    {
     "name": "stdout",
     "output_type": "stream",
     "text": [
      "Enter the three sides if the triangle: \n",
      "5\n",
      "6\n",
      "7\n",
      "The area of the triangle is 14.696938456699069\n"
     ]
    }
   ],
   "source": [
    "class user_input:\n",
    "    def __init__(self):\n",
    "        self.a=float(input())\n",
    "        self.b=float(input())\n",
    "        self.c=float(input())\n",
    "        \n",
    "class Area_of_triangle(user_input):\n",
    "    def __init__(self):\n",
    "        super().__init__()\n",
    "    \n",
    "    def area(self):\n",
    "        s = (self.a+self.b+self.c)/2\n",
    "        result= (s*(s-self.a)*(s-self.b)*(s-self.c))**0.5\n",
    "        print(\"The area of the triangle is\",result)\n",
    "        \n",
    "print(\"Enter the three sides if the triangle: \")\n",
    "area_of_t = Area_of_triangle() \n",
    "area_of_t.area()"
   ]
  },
  {
   "cell_type": "markdown",
   "metadata": {},
   "source": [
    "### 1.2)\n",
    "### Write a function filter_long_words() that takes a list of words and an integer n and returns the list of words that are longer than n."
   ]
  },
  {
   "cell_type": "code",
   "execution_count": 2,
   "metadata": {},
   "outputs": [
    {
     "name": "stdout",
     "output_type": "stream",
     "text": [
      "Enter number of words you want in the list: 5\n",
      "machine\n",
      "learning\n",
      "coding\n",
      "AI\n",
      "logic\n",
      "The words in the list: ['machine', 'learning', 'coding', 'AI', 'logic'] greater than the length 5 is ['machine', 'learning', 'coding']\n"
     ]
    }
   ],
   "source": [
    "def filter_long_words(list_w,n):\n",
    "    new_list= []\n",
    "    for ele in list_w:\n",
    "        if len(ele)>n:\n",
    "            new_list.append(ele)\n",
    "    return new_list\n",
    "n=int(input(\"Enter number of words you want in the list: \"))\n",
    "list_w=[]\n",
    "for i in range(n):\n",
    "    list_w.append(input())\n",
    "print(\"The words in the list:\",list_w,\"greater than the length\",n,\"is\",filter_long_words(list_w,n))"
   ]
  },
  {
   "cell_type": "markdown",
   "metadata": {},
   "source": [
    "### Q2) 2.1) Write a Python program using function concept that maps list of words into a list of integers representing the lengths of the corresponding words. Hint: If a list [ ab,cde,erty] is passed on to the python function output should come as [2,3,4] Here 2,3 and 4 are the lengths of the words in the list."
   ]
  },
  {
   "cell_type": "code",
   "execution_count": 4,
   "metadata": {},
   "outputs": [
    {
     "name": "stdout",
     "output_type": "stream",
     "text": [
      "Enter number of words you want in the list: 5\n",
      "machine\n",
      "learning\n",
      "code\n",
      "AI\n",
      "logic\n",
      "The lengths of the words in list ['machine', 'learning', 'code', 'AI', 'logic'] are: [7, 8, 4, 2, 5]\n"
     ]
    }
   ],
   "source": [
    "def length_of_words(list_w):\n",
    "    return list(map(len,list_w))\n",
    "n=int(input(\"Enter number of words you want in the list: \"))\n",
    "list_w=[]\n",
    "for i in range(n):\n",
    "    list_w.append(input())\n",
    "print(\"The lengths of the words in list\", list_w,\"are:\",length_of_words(list_w))"
   ]
  },
  {
   "cell_type": "markdown",
   "metadata": {},
   "source": [
    "### 2.2) Write a Python function which takes a character (i.e. a string of length 1) and returns True if it is a vowel, False otherwise."
   ]
  },
  {
   "cell_type": "code",
   "execution_count": 3,
   "metadata": {},
   "outputs": [
    {
     "name": "stdout",
     "output_type": "stream",
     "text": [
      "Enter any alphabetA\n",
      "It is True that alphabet A is vowel\n"
     ]
    }
   ],
   "source": [
    "def vowel_check(ele):\n",
    "    return (ele.lower() in ['a','e','i','o','u'])\n",
    "alphabet = input(\"Enter any alphabet\")[0]\n",
    "print(\"It is\",vowel_check(alphabet),\"that alphabet\",alphabet,\"is vowel\")"
   ]
  }
 ],
 "metadata": {
  "kernelspec": {
   "display_name": "Python 3",
   "language": "python",
   "name": "python3"
  },
  "language_info": {
   "codemirror_mode": {
    "name": "ipython",
    "version": 3
   },
   "file_extension": ".py",
   "mimetype": "text/x-python",
   "name": "python",
   "nbconvert_exporter": "python",
   "pygments_lexer": "ipython3",
   "version": "3.7.4"
  }
 },
 "nbformat": 4,
 "nbformat_minor": 2
}
