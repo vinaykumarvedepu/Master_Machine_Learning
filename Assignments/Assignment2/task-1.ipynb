{
 "cells": [
  {
   "cell_type": "markdown",
   "metadata": {},
   "source": [
    "# Task 1\n",
    "### Q1) 1.1 Write a Python Program to implement your own myreduce() function which works exactly like Python's built-in function reduce()."
   ]
  },
  {
   "cell_type": "code",
   "execution_count": 1,
   "metadata": {},
   "outputs": [
    {
     "name": "stdout",
     "output_type": "stream",
     "text": [
      "The values after reducing is: 3628800\n"
     ]
    }
   ],
   "source": [
    "def myreduce(func,l):\n",
    "    res = l[0]\n",
    "    for i in l[1:]:\n",
    "        res = func(res,i)\n",
    "    return res\n",
    "def mul(a,b):\n",
    "    return a*b\n",
    "\n",
    "l= list(range(1,11))\n",
    "x = myreduce(mul,l)\n",
    "print(\"The values after reducing is:\",str(x))"
   ]
  },
  {
   "cell_type": "markdown",
   "metadata": {},
   "source": [
    "### 1.2 Write a Python program to implement your own myfilter() function which works exactly like Python's built-in function filter()."
   ]
  },
  {
   "cell_type": "code",
   "execution_count": 2,
   "metadata": {},
   "outputs": [
    {
     "name": "stdout",
     "output_type": "stream",
     "text": [
      "[0, 2, 4, 6, 8, 10]\n"
     ]
    }
   ],
   "source": [
    "def myfilter(func,l):\n",
    "    new_l=[]\n",
    "    for i in l:\n",
    "        if func(i):\n",
    "            new_l.append(i)\n",
    "    return new_l\n",
    "def cond_func(x):\n",
    "    return x%2==0\n",
    "l = list(range(0,11))\n",
    "x = myfilter(cond_func,l)\n",
    "print(x)"
   ]
  },
  {
   "cell_type": "markdown",
   "metadata": {},
   "source": [
    "### Q2) Implement List comprehensions to produce the following lists. Write List comprehensions to produce the following Lists\n",
    "\n",
    "### ['A', 'C', 'A', 'D', 'G', 'I', ’L’, ‘ D’]\n",
    "\n",
    "### ['x', 'xx', 'xxx', 'xxxx', 'y', 'yy', 'yyy', 'yyyy', 'z', 'zz', 'zzz', 'zzzz']\n",
    "\n",
    "### ['x', 'y', 'z', 'xx', 'yy', 'zz', 'xx', 'yy', 'zz', 'xxxx', 'yyyy', 'zzzz']\n",
    "\n",
    "### [[2], [3], [4], [3], [4], [5], [4], [5], [6]]\n",
    "\n",
    "### [[2, 3, 4, 5], [3, 4, 5, 6], [4, 5, 6, 7], [5, 6, 7, 8]]\n",
    "\n",
    "### [(1, 1), (2, 1), (3, 1), (1, 2), (2, 2), (3, 2), (1, 3), (2, 3), (3, 3)]"
   ]
  },
  {
   "cell_type": "code",
   "execution_count": 5,
   "metadata": {},
   "outputs": [
    {
     "name": "stdout",
     "output_type": "stream",
     "text": [
      "['A', 'C', 'A', 'D', 'G', 'I', 'L', 'D']\n"
     ]
    }
   ],
   "source": [
    "#1 \n",
    "res1 = [i for i in 'ACADGILD']\n",
    "print(res)"
   ]
  },
  {
   "cell_type": "code",
   "execution_count": 7,
   "metadata": {},
   "outputs": [
    {
     "name": "stdout",
     "output_type": "stream",
     "text": [
      "['x', 'xx', 'xxx', 'xxxx', 'y', 'yy', 'yyy', 'yyyy', 'z', 'zz', 'zzz', 'zzzz']\n"
     ]
    }
   ],
   "source": [
    "#2\n",
    "res2 = [i*j for i in 'xyz' for j in range(1,5)]\n",
    "print(res2)\n"
   ]
  },
  {
   "cell_type": "code",
   "execution_count": 9,
   "metadata": {},
   "outputs": [
    {
     "name": "stdout",
     "output_type": "stream",
     "text": [
      "['x', 'y', 'z', 'xx', 'yy', 'zz', 'xxx', 'yyy', 'zzz', 'xxxx', 'yyyy', 'zzzz']\n"
     ]
    }
   ],
   "source": [
    "#3\n",
    "res3 = [i*j for i in range(1,5) for j in 'xyz']\n",
    "print(res3)"
   ]
  },
  {
   "cell_type": "code",
   "execution_count": 11,
   "metadata": {},
   "outputs": [
    {
     "name": "stdout",
     "output_type": "stream",
     "text": [
      "[[2], [3], [4], [3], [4], [5], [4], [5], [6]]\n"
     ]
    }
   ],
   "source": [
    "#4\n",
    "res4 = [[i+j] for i in range(2,5) for j in range(3)]\n",
    "print(res4)"
   ]
  },
  {
   "cell_type": "code",
   "execution_count": 17,
   "metadata": {},
   "outputs": [
    {
     "name": "stdout",
     "output_type": "stream",
     "text": [
      "[[2, 3, 4, 5], [3, 4, 5, 6], [4, 5, 6, 7], [5, 6, 7, 8]]\n"
     ]
    }
   ],
   "source": [
    "#5\n",
    "res5 = [[i+j for i in range(2,6)] for j in range(4)]\n",
    "print(res5)"
   ]
  },
  {
   "cell_type": "code",
   "execution_count": 18,
   "metadata": {},
   "outputs": [
    {
     "name": "stdout",
     "output_type": "stream",
     "text": [
      "[(1, 1), (2, 1), (3, 1), (1, 2), (2, 2), (3, 2), (1, 3), (2, 3), (3, 3)]\n"
     ]
    }
   ],
   "source": [
    "#6\n",
    "res6 = [(j,i) for i in range(1,4) for j in range(1,4)]\n",
    "print(res6)"
   ]
  },
  {
   "cell_type": "markdown",
   "metadata": {},
   "source": [
    "### Q3) Implement a function longestWord() that takes a list of words and returns the longest one."
   ]
  },
  {
   "cell_type": "code",
   "execution_count": 29,
   "metadata": {},
   "outputs": [
    {
     "name": "stdout",
     "output_type": "stream",
     "text": [
      "Enter number of words you want in the list: 5\n",
      "machine\n",
      "learning\n",
      "data science\n",
      "deep learning\n",
      "Artificial Intelligence\n",
      "The longest word in the list ['machine', 'learning', 'data science', 'deep learning', 'Artificial Intelligence'] is Artificial Intelligence\n"
     ]
    }
   ],
   "source": [
    "def longestWord(list_w):\n",
    "    return sorted(list_w,key=len)[-1]\n",
    "\n",
    "n = int(input(\"Enter number of words you want in the list: \"))\n",
    "list_w = []\n",
    "for i in range(n):\n",
    "    list_w.append(input())\n",
    "print(\"The longest word in the list\",list_w,\"is\",longestWord(list_w))\n"
   ]
  },
  {
   "cell_type": "markdown",
   "metadata": {},
   "source": [
    "## Task 2\n",
    "### Q1) 1.1)\n",
    "### Write a Python Program(with class concepts) to find the area of the triangle using the below formula. area = (s(s-a)(s-b)(s-c)) * 0.5\n",
    "### Function to take the length of the sides of triangle from user should be defined in the parent class and function to calculate the area should be defined in subclass."
   ]
  },
  {
   "cell_type": "code",
   "execution_count": 4,
   "metadata": {},
   "outputs": [
    {
     "name": "stdout",
     "output_type": "stream",
     "text": [
      "Enter the three sides if the triangle: \n",
      "5\n",
      "6\n",
      "7\n",
      "The area of the triangle is 14.696938456699069\n"
     ]
    }
   ],
   "source": [
    "class user_input:\n",
    "    def __init__(self):\n",
    "        self.a=float(input())\n",
    "        self.b=float(input())\n",
    "        self.c=float(input())\n",
    "        \n",
    "class Area_of_triangle(user_input):\n",
    "    def __init__(self):\n",
    "        super().__init__()\n",
    "    \n",
    "    def area(self):\n",
    "        s = (self.a+self.b+self.c)/2\n",
    "        result= (s*(s-self.a)*(s-self.b)*(s-self.c))**0.5\n",
    "        print(\"The area of the triangle is\",result)\n",
    "        \n",
    "print(\"Enter the three sides if the triangle: \")\n",
    "area_of_t = Area_of_triangle() \n",
    "area_of_t.area()"
   ]
  },
  {
   "cell_type": "markdown",
   "metadata": {},
   "source": [
    "### 1.2)\n",
    "### Write a function filter_long_words() that takes a list of words and an integer n and returns the list of words that are longer than n."
   ]
  },
  {
   "cell_type": "code",
   "execution_count": 3,
   "metadata": {},
   "outputs": [
    {
     "name": "stdout",
     "output_type": "stream",
     "text": [
      "Enter number of words you want in the list: 4\n",
      "machine\n",
      "learning\n",
      "deep\n",
      "AI\n",
      "The words in the list: ['machine', 'learning', 'deep', 'AI'] greater than the length 4 is ['machine', 'learning']\n"
     ]
    }
   ],
   "source": [
    "def filter_long_words(list_w,n):\n",
    "    new_list= []\n",
    "    for ele in list_w:\n",
    "        if len(ele)>n:\n",
    "            new_list.append(ele)\n",
    "    return new_list\n",
    "n=int(input(\"Enter number of words you want in the list: \"))\n",
    "list_w=[]\n",
    "for i in range(n):\n",
    "    list_w.append(input())\n",
    "print(\"The words in the list:\",list_w,\"greater than the length\",n,\"is\",filter_long_words(list_w,n))"
   ]
  },
  {
   "cell_type": "markdown",
   "metadata": {},
   "source": [
    "### Q2) 2.1) Write a Python program using function concept that maps list of words into a list of integers representing the lengths of the corresponding words. Hint: If a list [ ab,cde,erty] is passed on to the python function output should come as [2,3,4] Here 2,3 and 4 are the lengths of the words in the list."
   ]
  },
  {
   "cell_type": "code",
   "execution_count": 2,
   "metadata": {},
   "outputs": [
    {
     "name": "stdout",
     "output_type": "stream",
     "text": [
      "Enter number of words you want in the list: 5\n",
      "machine\n",
      "learning\n",
      "AI\n",
      "code\n",
      "logic\n",
      "The lengths of the words in list ['machine', 'learning', 'AI', 'code', 'logic'] are: [7, 8, 2, 4, 5]\n"
     ]
    }
   ],
   "source": [
    "def length_of_words(list_w):\n",
    "    return list(map(len,list_w))\n",
    "n=int(input(\"Enter number of words you want in the list: \"))\n",
    "list_w=[]\n",
    "for i in range(n):\n",
    "    list_w.append(input())\n",
    "print(\"The lengths of the words in list\", list_w,\"are:\",length_of_words(list_w))"
   ]
  },
  {
   "cell_type": "markdown",
   "metadata": {},
   "source": [
    "### 2.2) Write a Python function which takes a character (i.e. a string of length 1) and returns True if it is a vowel, False otherwise."
   ]
  },
  {
   "cell_type": "code",
   "execution_count": 1,
   "metadata": {},
   "outputs": [
    {
     "name": "stdout",
     "output_type": "stream",
     "text": [
      "Enter any alphabetA\n",
      "It is True that alphabet A is vowel\n"
     ]
    }
   ],
   "source": [
    "def vowel_check(ele):\n",
    "    return (ele.lower() in ['a','e','i','o','u'])\n",
    "alphabet = input(\"Enter any alphabet\")[0]\n",
    "print(\"It is\",vowel_check(alphabet),\"that alphabet\",alphabet,\"is vowel\")"
   ]
  },
  {
   "cell_type": "code",
   "execution_count": null,
   "metadata": {},
   "outputs": [],
   "source": []
  },
  {
   "cell_type": "code",
   "execution_count": null,
   "metadata": {},
   "outputs": [],
   "source": []
  }
 ],
 "metadata": {
  "kernelspec": {
   "display_name": "Python 3",
   "language": "python",
   "name": "python3"
  },
  "language_info": {
   "codemirror_mode": {
    "name": "ipython",
    "version": 3
   },
   "file_extension": ".py",
   "mimetype": "text/x-python",
   "name": "python",
   "nbconvert_exporter": "python",
   "pygments_lexer": "ipython3",
   "version": "3.7.4"
  }
 },
 "nbformat": 4,
 "nbformat_minor": 2
}
