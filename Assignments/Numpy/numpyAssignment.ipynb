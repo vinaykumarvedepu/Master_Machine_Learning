{
 "cells": [
  {
   "cell_type": "markdown",
   "metadata": {},
   "source": [
    "# Problem Statement - 1"
   ]
  },
  {
   "cell_type": "markdown",
   "metadata": {},
   "source": [
    "### Write a function so that the columns of the output matrix are powers of the input vector.The order of the powers is determined by the increasing boolean argument. Specifically, when increasing is False, the i-th output column is the input vector raised element-wise to the power of N - i - 1.\n",
    "### HINT: Such a matrix with a geometric progression in each row is named for Alexandre Theophile Vandermonde."
   ]
  },
  {
   "cell_type": "code",
   "execution_count": 4,
   "metadata": {},
   "outputs": [],
   "source": [
    "import numpy as np\n",
    "def powers(list_in,n,order):\n",
    "    if order == 1:\n",
    "        new_list = [[ele**i for i in range(n)] for ele in list_in]\n",
    "    else:\n",
    "        new_list=[[ele**i for i in range(n-1,-1,-1)] for ele in list_in]\n",
    "    return np.asanyarray(new_list)"
   ]
  },
  {
   "cell_type": "code",
   "execution_count": 7,
   "metadata": {},
   "outputs": [
    {
     "name": "stdout",
     "output_type": "stream",
     "text": [
      "Enter the size of the list:5\n",
      "Enter the elements in the list\n",
      "1\n",
      "2\n",
      "3\n",
      "4\n",
      "5\n",
      "press 1 for increasing order or 0 for decreasing order:0\n",
      "The resultant matrix:\n",
      " [[  1   1   1   1   1]\n",
      " [ 16   8   4   2   1]\n",
      " [ 81  27   9   3   1]\n",
      " [256  64  16   4   1]\n",
      " [625 125  25   5   1]]\n"
     ]
    }
   ],
   "source": [
    "n = int(input(\"Enter the size of the list:\"))\n",
    "print(\"Enter the elements in the list\")\n",
    "list_in=[int(input()) for i in range(n)]\n",
    "order =int( input(\"press 1 for increasing order or 0 for decreasing order:\"))\n",
    "print(\"The resultant matrix:\\n\",powers(list_in, n , order))"
   ]
  },
  {
   "cell_type": "code",
   "execution_count": 9,
   "metadata": {},
   "outputs": [
    {
     "name": "stdout",
     "output_type": "stream",
     "text": [
      "Enter the size of the list:3\n",
      "Enter the elements in the list\n",
      "1\n",
      "2\n",
      "3\n",
      "press 1 for increasing order or 0 for decreasing order:1\n",
      "The resultant matrix:\n",
      " [[1 1 1]\n",
      " [1 2 4]\n",
      " [1 3 9]]\n"
     ]
    }
   ],
   "source": [
    "n = int(input(\"Enter the size of the list:\"))\n",
    "print(\"Enter the elements in the list\")\n",
    "list_in=[int(input()) for i in range(n)]\n",
    "order =int( input(\"press 1 for increasing order or 0 for decreasing order:\"))\n",
    "print(\"The resultant matrix:\\n\",powers(list_in, n , order))"
   ]
  },
  {
   "cell_type": "markdown",
   "metadata": {},
   "source": [
    "# Problem Statement - 2"
   ]
  },
  {
   "cell_type": "markdown",
   "metadata": {},
   "source": [
    "### Given a sequence of n values x1, x2, ..., xn and a window size k>0, the k-th moving average of the given sequence is defined as follows:\n",
    "### The moving average sequence has n-k+1 elements as shown below.\n",
    "### The moving averages with k=4 of a ten-value sequence (n=10) is shown below\n",
    "### i 1 2 3 4 5 6 7 8 9 10\n",
    "### ===== == == == == == == == == == ==\n",
    "### Input 10 20 30 40 50 60 70 80 90 100 \n",
    "### y1 25 = (10+20+30+40)/4\n",
    "### y2 35 = (20+30+40+50)/4\n",
    "### y3 45 = (30+40+50+60)/4\n",
    "### y4 55 = (40+50+60+70)/4\n",
    "### y5 65 = (50+60+70+80)/4\n",
    "### y6 75 = (60+70+80+90)/4\n",
    "### y7 85 = (70+80+90+100)/4\n",
    "### Thus, the moving average sequence has n-k+1=10-4+1=7 values.\n",
    "### Question: Write a function to find moving average in an array over a window:\n",
    "### Test it over [3, 5, 7, 2, 8, 10, 11, 65, 72, 81, 99, 100, 150] and window of 3."
   ]
  },
  {
   "cell_type": "code",
   "execution_count": 56,
   "metadata": {},
   "outputs": [],
   "source": [
    "def moving_avgs(list_in,window=3):\n",
    "    new_list=[]\n",
    "    x=0\n",
    "    for i in range(len(list_in)-window+1):\n",
    "        if i != len(list_in)-window+1:\n",
    "            avg=0\n",
    "            for i in range(window):\n",
    "                avg +=list_in[x+i]\n",
    "            new_list.append(round(avg/window,2))\n",
    "            x+=1\n",
    "    return new_list"
   ]
  },
  {
   "cell_type": "code",
   "execution_count": 62,
   "metadata": {},
   "outputs": [
    {
     "name": "stdout",
     "output_type": "stream",
     "text": [
      "Enter the size of the list:13\n",
      "Enter the elements in the list\n",
      "3\n",
      "5\n",
      "7\n",
      "2\n",
      "8\n",
      "10\n",
      "11\n",
      "65\n",
      "72\n",
      "81\n",
      "99\n",
      "100\n",
      "150\n",
      "Enter the size of the window:3\n",
      "The Moving Average sequence with window size 3 is\n",
      "[5.0, 4.67, 5.67, 6.67, 9.67, 28.67, 49.33, 72.67, 84.0, 93.33, 116.33]\n"
     ]
    }
   ],
   "source": [
    "n = int(input(\"Enter the size of the list:\"))\n",
    "print(\"Enter the elements in the list\")\n",
    "list_in=[int(input()) for i in range(n)]\n",
    "window = int(input(\"Enter the size of the window:\"))\n",
    "print(\"The Moving Average sequence with window size {} is\".format(window))\n",
    "print(moving_avgs(list_in,window))"
   ]
  }
 ],
 "metadata": {
  "kernelspec": {
   "display_name": "Python 3",
   "language": "python",
   "name": "python3"
  },
  "language_info": {
   "codemirror_mode": {
    "name": "ipython",
    "version": 3
   },
   "file_extension": ".py",
   "mimetype": "text/x-python",
   "name": "python",
   "nbconvert_exporter": "python",
   "pygments_lexer": "ipython3",
   "version": "3.7.6"
  }
 },
 "nbformat": 4,
 "nbformat_minor": 4
}
